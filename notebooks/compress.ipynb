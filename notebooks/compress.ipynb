{
 "cells": [
  {
   "cell_type": "code",
   "execution_count": 25,
   "metadata": {},
   "outputs": [],
   "source": [
    "DATA_DIR = '/raid.unprotected/commavq/data/'\n",
    "import os \n",
    "files = os.listdir(DATA_DIR)\n",
    "files = [DATA_DIR + file for file in files]\n",
    "\n",
    "import zlib\n",
    "import zipfile\n",
    "\n",
    "def compress(file_paths, output_path):\n",
    "  compression = zipfile.ZIP_DEFLATED  \n",
    "  # create the zip file first parameter path/name, second mode\n",
    "  zf = zipfile.ZipFile(output_path, mode=\"w\")\n",
    "  try:\n",
    "    for file_path in file_paths:\n",
    "      # Add file to the zip file\n",
    "      # first parameter file to zip, second filename in zip\n",
    "      zf.write(file_path, file_path.split('/')[-1], compress_type=compression)  \n",
    "  except FileNotFoundError:\n",
    "      print(\"An error occurred\")\n",
    "  finally:\n",
    "      # Don't forget to close the file!\n",
    "      zf.close()\n",
    "\n",
    "from tqdm import trange"
   ]
  },
  {
   "cell_type": "code",
   "execution_count": 26,
   "metadata": {},
   "outputs": [
    {
     "data": {
      "text/plain": [
       "40"
      ]
     },
     "execution_count": 26,
     "metadata": {},
     "output_type": "execute_result"
    }
   ],
   "source": [
    "shard_size=2500\n",
    "n = 100000//shard_size\n",
    "n"
   ]
  },
  {
   "cell_type": "code",
   "execution_count": 22,
   "metadata": {},
   "outputs": [],
   "source": [
    "#for i in trange(n):\n",
    "#    s, e = i*shard_size, (i+1)*shard_size\n",
    "#    compress(files[s:e], f'/raid.unprotected/commavq/compressed/data_{s}_to_{e}.zip')"
   ]
  },
  {
   "cell_type": "code",
   "execution_count": 23,
   "metadata": {},
   "outputs": [
    {
     "data": {
      "text/plain": [
       "[None,\n",
       " None,\n",
       " None,\n",
       " None,\n",
       " None,\n",
       " None,\n",
       " None,\n",
       " None,\n",
       " None,\n",
       " None,\n",
       " None,\n",
       " None,\n",
       " None,\n",
       " None,\n",
       " None,\n",
       " None,\n",
       " None,\n",
       " None,\n",
       " None,\n",
       " None,\n",
       " None,\n",
       " None,\n",
       " None,\n",
       " None,\n",
       " None,\n",
       " None,\n",
       " None,\n",
       " None,\n",
       " None,\n",
       " None,\n",
       " None,\n",
       " None,\n",
       " None,\n",
       " None,\n",
       " None,\n",
       " None,\n",
       " None,\n",
       " None,\n",
       " None,\n",
       " None]"
      ]
     },
     "execution_count": 23,
     "metadata": {},
     "output_type": "execute_result"
    }
   ],
   "source": [
    "from joblib import Parallel, delayed\n",
    "_ = Parallel(n_jobs=40)(delayed(compress)(files[i*shard_size:(i+1)*shard_size], f'/raid.unprotected/commavq/compressed/data_{i*shard_size}_to_{(i+1)*shard_size}.zip') for i in range(n))"
   ]
  },
  {
   "cell_type": "code",
   "execution_count": 28,
   "metadata": {},
   "outputs": [],
   "source": [
    "DATA_DIR = '/raid.unprotected/commavq/val/'\n",
    "files = os.listdir(DATA_DIR)[:100]\n",
    "files = [DATA_DIR + file for file in files]\n",
    "compress(files, f'/raid.unprotected/commavq/compressed/val.zip')"
   ]
  },
  {
   "cell_type": "code",
   "execution_count": 31,
   "metadata": {},
   "outputs": [
    {
     "data": {
      "text/plain": [
       "['018b5c3a0e63c1efe2f490b79edf0310_4.npy',\n",
       " '0808ddb444cea7ac0b277bca035ade38_17.npy',\n",
       " '08147fc17afd3946fd0c32609dba3daf_3.npy',\n",
       " '0a92ddb367fd432271d1a36a1977dcce_4.npy',\n",
       " '0b35240ae6d544866d70b54ecdf2c1ad_5.npy',\n",
       " '0d12fa8ae848f7614251b75c0c074b04_28.npy',\n",
       " '0fc5f5a0c02d041fb46ab6b2e2daa035_10.npy',\n",
       " '11140207508a34d1771b43c712ec29be_13.npy',\n",
       " '116e0803a0ad73a0e5b9c5daaf923f10_4.npy',\n",
       " '12367a72f10d898a2b5f7cfbe1f1ad82_17.npy',\n",
       " '128b3061e94414e757c932b214e24d15_24.npy',\n",
       " '14b2bf583b49866ede0d1bd70d0138db_14.npy',\n",
       " '1ecb71a6c99c8076a659a1e3e169a625_10.npy',\n",
       " '2ecb2782db6f96f4f911f31e55d28b5f_8.npy',\n",
       " '2f89c6ee7741c43c2a53925543e35d32_7.npy',\n",
       " '2ff2c4d1e1793ca8b0a9bb8a2ef82f83_13.npy',\n",
       " '36c714acd33714b942f099ef05e78e0d_29.npy',\n",
       " '39fcd2d98361171bf1188a1bbebdc8f0_10.npy',\n",
       " '3cc267c4d3eb9aea11ca85eab88a9286_7.npy',\n",
       " '3f1a1d1fa5fbb4c84f644474f77dae20_66.npy',\n",
       " '3f27b4316cb6d9bc901f32455f392905_10.npy',\n",
       " '3f7fe5bb9961ac3940ccf0fee476f918_33.npy',\n",
       " '3fa973f2d07db567835a8a1135616807_3.npy',\n",
       " '42f5d83ed3ccfecf8620151d56cdd009_12.npy',\n",
       " '43c93efb1a60f63c0445f07a1f923db6_54.npy',\n",
       " '4680edfa54bc38f101469180590632d1_3.npy',\n",
       " '480d7f1afc1f0c82bf8cb0c693c91fbe_13.npy',\n",
       " '4a3d10fc42d8e2c182d28d35ebbdf874_88.npy',\n",
       " '4aaf59e87ea8c9621046df2c1312456f_4.npy',\n",
       " '4eb1b94350201a722e6e3df7abf5d8d3_13.npy',\n",
       " '53703b6135af6aba1768c74df430d8d4_3.npy',\n",
       " '55802c85d70b5c40fb69b1521aa93ec4_4.npy',\n",
       " '564d324cc608bc262d112bb7c4d18087_14.npy',\n",
       " '591ce5ec717eaa8ac119ff4b056f15a8_7.npy',\n",
       " '59c991870c92c323d7f2b89ca9734ce3_3.npy',\n",
       " '5abdc4468c0a413ee577871c8bc0310a_9.npy',\n",
       " '5b06de46ee7ab775839bab7c0c666def_9.npy',\n",
       " '5b4e7c68147359036e861f1f49f703b1_21.npy',\n",
       " '5d8dab51c978d8336731f3f6de22a491_1.npy',\n",
       " '5f357473d40b03a61350f9bed9cad01f_15.npy',\n",
       " '615d91d677f48cfee6797e70e3bdad1c_33.npy',\n",
       " '61b014d5dc1168a847cc034da54b093d_2.npy',\n",
       " '65061dc18b65e635862d8c1c1c4325d6_8.npy',\n",
       " '67ddbf40d09db6eb3c66cefd623d5ffa_17.npy',\n",
       " '6c00e1cb4a73adc5d830a806705ed6b8_5.npy',\n",
       " '74aacbcd720d8a46b6967950c4806004_7.npy',\n",
       " '76389a05032df1834e7f208ad567609f_1.npy',\n",
       " '7a3409e199be6bdfdebb22b352b2fc6e_10.npy',\n",
       " '7bcdd90ba3d14bb739385fa83ef533a6_1.npy',\n",
       " '7c2b7720954414bd3f9fe081f191174e_194.npy',\n",
       " '7cd9e2a99212464d1a4207b9ce5aed36_4.npy',\n",
       " '7d500d9e6217cf1924827e73b268afca_8.npy',\n",
       " '8b14252e0f342cf1813bdebcb40cb0d0_29.npy',\n",
       " '8b3d70fbcf91947799a362fdf305c7b4_48.npy',\n",
       " '8d66bb76faeadb429a9545b9fb76ca47_10.npy',\n",
       " '8de0fed0bbc3cf8192f8c395325ec67a_3.npy',\n",
       " '913b0feb397497c86b14b67cf43444fc_6.npy',\n",
       " '954a311d0bb813f1e1ae657a0bff84d3_3.npy',\n",
       " '969cb4c333efc3f6ed288b7e24bc9b85_33.npy',\n",
       " '974ec7c085369152af4d6e8a2cc436d8_29.npy',\n",
       " '97942bd0a4ea64f57cf406aefbd7ab13_91.npy',\n",
       " '9e2b08c2359e45a9042a194870aa664a_15.npy',\n",
       " '9ebba4264ad5d9d74bd31897acdfa585_3.npy',\n",
       " '9f82e32ae3b149fb10f869bf2272fee9_7.npy',\n",
       " 'a335a5d9e481592a215862bc4220ba3a_23.npy',\n",
       " 'a3bb934daeaaef70679f1676c5ad8220_18.npy',\n",
       " 'a703a4d7dedbcd78b0058d012072c236_5.npy',\n",
       " 'acb48292566fc4b0536d0fc523c8173a_5.npy',\n",
       " 'ad4341a22bde7d1d550e8bcd1e40ac47_25.npy',\n",
       " 'af63d182fc04bc6395447448c8e80792_1.npy',\n",
       " 'b2cbd55e8cad992357677448508eab2b_2.npy',\n",
       " 'b2dc19e0dfaa8884c0f3460d1f6d988e_17.npy',\n",
       " 'b3b74214b9882beb1e0cd61b9d18830f_10.npy',\n",
       " 'b57ccb9f2a966667dfe6c831ae88dca7_410.npy',\n",
       " 'b94e21b9ab584571ec2bb16a553264a1_2.npy',\n",
       " 'baedc4988ebb3bf1246148dfb77c7d80_38.npy',\n",
       " 'bd9e96b8bd2f647197ef5cf187407aad_4.npy',\n",
       " 'bdf535f2e0d725e2e8ce06d4e601c721_3.npy',\n",
       " 'bf531e9c1194137d6b35b7f0a47b3fdd_29.npy',\n",
       " 'c393358ea3f63598fbf3088b1433da30_3.npy',\n",
       " 'c6db8a8eeba1dd85ad0caf95efeee55d_3.npy',\n",
       " 'ce5e6766fc284d6a3e50e93ea348a29f_1.npy',\n",
       " 'ce9c455dba518cde65a0f7b31cf14b57_25.npy',\n",
       " 'd13121533c6ba4da947e143548ec4e37_6.npy',\n",
       " 'd3b6df8eab8f22df79ff98a23b5aa140_2.npy',\n",
       " 'd3b6df8eab8f22df79ff98a23b5aa140_5.npy',\n",
       " 'dafccfb046f4037c2c2e102bfe3d9b61_4.npy',\n",
       " 'db44d633d8fd8c61b7e70ad33fe5e723_1.npy',\n",
       " 'e3d7db0a24934093a71f0d7b80c86894_27.npy',\n",
       " 'e860ca3cd221627849232b7902574e6a_42.npy',\n",
       " 'eac29f7d331fedb6f5adb0dd5741f6bf_85.npy',\n",
       " 'ef0e17161e7bcfa83e4da354cc0c84b0_8.npy',\n",
       " 'effa99c01abd0c11ac19f5b51a5d7c7f_12.npy',\n",
       " 'f07c3de9539f94fe605aec4c3b2de0e3_3.npy',\n",
       " 'f1d7670ad49c734ec530b583fc505964_2.npy',\n",
       " 'f421c73f1f7788cfd279f04ea8ac3c06_20.npy',\n",
       " 'f5edff8267771d1c8e7ad4eabc2f3dd7_71.npy',\n",
       " 'fa1d939e67edf0bdbcc78ade713d3202_87.npy',\n",
       " 'fe4c7e112dd37f0afcea92f21780940e_5.npy',\n",
       " 'fe809f0fff5562cc4d2bdc073d242123_31.npy']"
      ]
     },
     "execution_count": 31,
     "metadata": {},
     "output_type": "execute_result"
    }
   ],
   "source": [
    "sorted(os.listdir(DATA_DIR)[:100])"
   ]
  },
  {
   "cell_type": "code",
   "execution_count": null,
   "metadata": {},
   "outputs": [],
   "source": []
  }
 ],
 "metadata": {
  "kernelspec": {
   "display_name": "Python 3",
   "language": "python",
   "name": "python3"
  },
  "language_info": {
   "codemirror_mode": {
    "name": "ipython",
    "version": 3
   },
   "file_extension": ".py",
   "mimetype": "text/x-python",
   "name": "python",
   "nbconvert_exporter": "python",
   "pygments_lexer": "ipython3",
   "version": "3.8.10"
  },
  "orig_nbformat": 4
 },
 "nbformat": 4,
 "nbformat_minor": 2
}
